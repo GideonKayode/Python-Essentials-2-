{
 "cells": [
  {
   "cell_type": "markdown",
   "id": "93cef0b9",
   "metadata": {},
   "source": [
    "#### 1. Write a program to check and print the data types of the following variables:"
   ]
  },
  {
   "cell_type": "code",
   "execution_count": 153,
   "id": "ea890f0f",
   "metadata": {},
   "outputs": [
    {
     "name": "stdout",
     "output_type": "stream",
     "text": [
      "The data type of a is <class 'int'>\n",
      "The data type of b is <class 'float'>\n",
      "The data type of c is <class 'str'>\n",
      "The data type of d is <class 'bool'>\n",
      "The data type of f is <class 'tuple'>\n"
     ]
    }
   ],
   "source": [
    "a = 60\n",
    "b = 5.500\n",
    "c = 'Hello'\n",
    "d = True\n",
    "f = (\"c\", \"Java\", \"Python\", \"C++\")\n",
    "\n",
    "print(f\"The data type of a is {type(a)}\\nThe data type of b is {type(b)}\\nThe data type of c is {type(c)}\\nThe data type of d is {type(d)}\\nThe data type of f is {type(f)}\")"
   ]
  },
  {
   "cell_type": "markdown",
   "id": "076a2500",
   "metadata": {},
   "source": [
    "##### 2. Create three variables: name, age, and city. Assign your name, age, and city of residence to these variables, then print a sentence introducing yourself using these variables. Example: \"Hi, my name is [name]. I am [age] years old and I live in [city].\""
   ]
  },
  {
   "cell_type": "code",
   "execution_count": 154,
   "id": "a9ef8e61",
   "metadata": {},
   "outputs": [
    {
     "name": "stdout",
     "output_type": "stream",
     "text": [
      "Hi, my name is Gideon Ayomide Kayode. I am 22years old and I live in Ibadan, Oyo state.\n"
     ]
    }
   ],
   "source": [
    "name = 'Gideon Ayomide Kayode'\n",
    "age = 22 \n",
    "city = 'Ibadan'\n",
    "\n",
    "print(f\"Hi, my name is {name}. I am {age}years old and I live in {city}, Oyo state.\")"
   ]
  },
  {
   "cell_type": "markdown",
   "id": "85eaeb3b",
   "metadata": {},
   "source": [
    "##### 3. Write a program that swaps the values of two variables, x and y. For example, if x = 5 and y = 10, the program should swap their values so that x = 10 and y = 5."
   ]
  },
  {
   "cell_type": "code",
   "execution_count": 155,
   "id": "fe5a60d2",
   "metadata": {},
   "outputs": [
    {
     "name": "stdout",
     "output_type": "stream",
     "text": [
      "given values\n",
      " x = 5 \n",
      " y = 10\n",
      "after swap\n",
      " x = 10 \n",
      " y = 5\n"
     ]
    }
   ],
   "source": [
    "x = 5\n",
    "y = 10 \n",
    "\n",
    "print(f\"given values\\n x = {x} \\n y = {y}\")\n",
    "\n",
    "x,y = y,x\n",
    "\n",
    "print(f\"after swap\\n x = {x} \\n y = {y}\")"
   ]
  },
  {
   "cell_type": "markdown",
   "id": "f41509f2",
   "metadata": {},
   "source": [
    "#### 4. Convert the following values to the specified data types and print the results: "
   ]
  },
  {
   "cell_type": "code",
   "execution_count": 156,
   "id": "ecf60bad",
   "metadata": {},
   "outputs": [
    {
     "name": "stdout",
     "output_type": "stream",
     "text": [
      " The conversion of 3.14 to an integer is 3\n",
      " The conversion of 10 into string is '10'\n",
      " The conversion of '123' to an integer is 123\n"
     ]
    }
   ],
   "source": [
    "# 1. \n",
    "x = 3.14\n",
    "\n",
    "print(f\" The conversion of 3.14 to an integer is {int (x)}\")\n",
    "\n",
    "# 2. \n",
    "y = 10\n",
    "\n",
    "print(f\" The conversion of 10 into string is '{str(y)}'\")\n",
    "\n",
    "# 3.\n",
    "z = \"123\"\n",
    "\n",
    "print(f\" The conversion of '123' to an integer is {int(z)}\")\n",
    "\n"
   ]
  },
  {
   "cell_type": "markdown",
   "id": "30a181fb",
   "metadata": {},
   "source": [
    "##### 5. Write a program to calculate the area of Circle. Take the radius as input from the user. Use arithmetic operators to compute the results and print them. "
   ]
  },
  {
   "cell_type": "code",
   "execution_count": 157,
   "id": "0df4f95f",
   "metadata": {},
   "outputs": [
    {
     "name": "stdout",
     "output_type": "stream",
     "text": [
      " The area of the circle with the radius 7.7 is  186.26.\n"
     ]
    }
   ],
   "source": [
    "try: #Making instances of the user trying to input non-float characters\n",
    "    radius = float(input(\"Enter the radius of the circle\"))\n",
    "\n",
    "    if radius < 0:\n",
    "        print (\"The radius of the circle cannot be negative\")\n",
    "    else: \n",
    "        area = 3.14159 * (radius ** 2)\n",
    "        print(f\" The area of the circle with the radius {radius} is {area: .2f}.\") # Using .2f to make the area in 2 decimal places.\n",
    "except ValueError: \n",
    "    print(\"You have entered an invalid radius. Please, try again\")"
   ]
  },
  {
   "cell_type": "markdown",
   "id": "7643eec0",
   "metadata": {},
   "source": [
    "##### 6. Create a list of 5 of your favorite Tech skills. Add another skills to the list, remove the second skill, and print the updated list. "
   ]
  },
  {
   "cell_type": "code",
   "execution_count": 158,
   "id": "5cf7365a",
   "metadata": {},
   "outputs": [
    {
     "name": "stdout",
     "output_type": "stream",
     "text": [
      "['Data Science', 'Web development', 'Deep learning', 'IoT', 'Cloud computing']\n"
     ]
    }
   ],
   "source": [
    "fav_tech_skills = ['Data Science','Data Analysis', 'Web development', 'Deep learning', 'IoT']\n",
    "\n",
    "fav_tech_skills.append('Cloud computing')\n",
    "\n",
    "del fav_tech_skills[1]\n",
    "\n",
    "print(fav_tech_skills)"
   ]
  },
  {
   "cell_type": "markdown",
   "id": "5750caab",
   "metadata": {},
   "source": [
    "#### 7. Write a program that takes a list of numbers as input and calculates the sum of all even numbers in the list."
   ]
  },
  {
   "cell_type": "code",
   "execution_count": 159,
   "id": "d297f951",
   "metadata": {},
   "outputs": [
    {
     "name": "stdout",
     "output_type": "stream",
     "text": [
      "The sum of the even numbers in the sampled list is 80\n"
     ]
    }
   ],
   "source": [
    "def sum_even_number(numbers):\n",
    "    even_sum = sum(num for num in numbers if num % 2 == 0)\n",
    "    return(even_sum)\n",
    "\n",
    "list_num = [11,12,13,14,15,16,17,18,19,20]\n",
    "sum_list_num = sum_even_number(list_num)\n",
    "\n",
    "print(f\"The sum of the even numbers in the sampled list is {sum_list_num}\")\n"
   ]
  },
  {
   "cell_type": "code",
   "execution_count": 160,
   "id": "b87ee0f6",
   "metadata": {},
   "outputs": [
    {
     "ename": "TypeError",
     "evalue": "'tuple' object does not support item assignment",
     "output_type": "error",
     "traceback": [
      "\u001b[31m---------------------------------------------------------------------------\u001b[39m",
      "\u001b[31mTypeError\u001b[39m                                 Traceback (most recent call last)",
      "\u001b[36mCell\u001b[39m\u001b[36m \u001b[39m\u001b[32mIn[160]\u001b[39m\u001b[32m, line 3\u001b[39m\n\u001b[32m      1\u001b[39m name_of_countries = (\u001b[33m'\u001b[39m\u001b[33mJapan\u001b[39m\u001b[33m'\u001b[39m, \u001b[33m'\u001b[39m\u001b[33mSouth_Korea\u001b[39m\u001b[33m'\u001b[39m, \u001b[33m'\u001b[39m\u001b[33mChina\u001b[39m\u001b[33m'\u001b[39m, \u001b[33m'\u001b[39m\u001b[33mUnited_Kingdom\u001b[39m\u001b[33m'\u001b[39m, \u001b[33m'\u001b[39m\u001b[33mFinland\u001b[39m\u001b[33m'\u001b[39m)\n\u001b[32m----> \u001b[39m\u001b[32m3\u001b[39m \u001b[43mname_of_countries\u001b[49m\u001b[43m[\u001b[49m\u001b[33;43m'\u001b[39;49m\u001b[33;43mUnited_Kingdom\u001b[39;49m\u001b[33;43m'\u001b[39;49m\u001b[43m]\u001b[49m = [\u001b[33m'\u001b[39m\u001b[33mNigeria\u001b[39m\u001b[33m'\u001b[39m]\n\u001b[32m      5\u001b[39m \u001b[38;5;28mprint\u001b[39m(name_of_countries)\n\u001b[32m      6\u001b[39m \u001b[38;5;66;03m# A tuple is immutable, i.e the contained variables can't be changed. \u001b[39;00m\n",
      "\u001b[31mTypeError\u001b[39m: 'tuple' object does not support item assignment"
     ]
    }
   ],
   "source": [
    "name_of_countries = ('Japan', 'South_Korea', 'China', 'United_Kingdom', 'Finland')\n",
    "\n",
    "name_of_countries['United_Kingdom'] = ['Nigeria']\n",
    "\n",
    "print(name_of_countries)\n",
    "# A tuple is immutable, i.e the contained variables can't be changed. "
   ]
  },
  {
   "cell_type": "markdown",
   "id": "019325bb",
   "metadata": {},
   "source": [
    "##### 9. Write a Python program that takes a tuple of numbers as input and prints the maximum and minimum values in the tuple"
   ]
  },
  {
   "cell_type": "code",
   "execution_count": null,
   "id": "b158b2b2",
   "metadata": {},
   "outputs": [
    {
     "name": "stdout",
     "output_type": "stream",
     "text": [
      " The maximum value in the sampled tuple above is 10.\n",
      " The minimum value in the sampled tuple above is 1.\n"
     ]
    }
   ],
   "source": [
    "num_in_tuple = (1,2,3,4,5,6,7,8,9,10)\n",
    "\n",
    "print(f\" The maximum value in the sampled tuple above is {max(num_in_tuple)}.\")\n",
    "print(f\" The minimum value in the sampled tuple above is {min(num_in_tuple)}.\")"
   ]
  },
  {
   "cell_type": "markdown",
   "id": "c0a58ec1",
   "metadata": {},
   "source": [
    "##### 10. Print the dictionary and access the value for the Author. "
   ]
  },
  {
   "cell_type": "code",
   "execution_count": null,
   "id": "19711fec",
   "metadata": {},
   "outputs": [
    {
     "name": "stdout",
     "output_type": "stream",
     "text": [
      "{'Title': 'The Great Gatsby', 'Author': 'F.Scott Fitzgerald', 'Year_of_publication': 1925, 'Price': '$500'}\n",
      "The value for the Author in the dictionary is F.Scott Fitzgerald.\n"
     ]
    }
   ],
   "source": [
    "book_details = {\n",
    "                'Title':'The Great Gatsby',\n",
    "                'Author': 'F.Scott Fitzgerald',\n",
    "                'Year_of_publication': 1925,\n",
    "                'Price': '$500'\n",
    "                } \n",
    "\n",
    "\n",
    "print(book_details)\n",
    "\n",
    "print(f\"The value for the Author in the dictionary is {book_details['Author']}.\")"
   ]
  },
  {
   "cell_type": "markdown",
   "id": "62c3d784",
   "metadata": {},
   "source": [
    "##### 11. Write a program to count the occurrences of each word in the sentence: \"Python is fun and learning Python is easy.\" Store the word counts in a dictonary."
   ]
  },
  {
   "cell_type": "code",
   "execution_count": null,
   "id": "662bea03",
   "metadata": {},
   "outputs": [
    {
     "name": "stdout",
     "output_type": "stream",
     "text": [
      "{'PYTHON': 2, 'IS': 2, 'FUN': 1, 'AND': 1, 'LEARNING': 1, 'EASY': 1}\n"
     ]
    }
   ],
   "source": [
    "sentence = \"Python is fun and learning Python is easy\" \n",
    "\n",
    "words = sentence.upper().split() #Uppercase command is used so that the sentence case can be the same before splitting to avoid case issues\n",
    "words_count = {}\n",
    "\n",
    "for word in words:\n",
    "    if word in words_count:\n",
    "        words_count[word] += 1 \n",
    "    else:\n",
    "        words_count[word] = 1 \n",
    "\n",
    "print(words_count)"
   ]
  }
 ],
 "metadata": {
  "kernelspec": {
   "display_name": "Python 3",
   "language": "python",
   "name": "python3"
  },
  "language_info": {
   "codemirror_mode": {
    "name": "ipython",
    "version": 3
   },
   "file_extension": ".py",
   "mimetype": "text/x-python",
   "name": "python",
   "nbconvert_exporter": "python",
   "pygments_lexer": "ipython3",
   "version": "3.12.4"
  }
 },
 "nbformat": 4,
 "nbformat_minor": 5
}
